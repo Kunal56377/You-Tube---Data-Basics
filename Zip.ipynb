{
 "cells": [
  {
   "cell_type": "markdown",
   "metadata": {},
   "source": [
    "# Zip Operation"
   ]
  },
  {
   "cell_type": "code",
   "execution_count": 39,
   "metadata": {},
   "outputs": [],
   "source": [
    "L1 = [1,2,3,5]\n",
    "L2 = [2,3,4]"
   ]
  },
  {
   "cell_type": "code",
   "execution_count": 40,
   "metadata": {},
   "outputs": [],
   "source": [
    "output = zip(L1,L2)"
   ]
  },
  {
   "cell_type": "code",
   "execution_count": 27,
   "metadata": {},
   "outputs": [
    {
     "data": {
      "text/plain": [
       "<zip at 0x2c289881d00>"
      ]
     },
     "execution_count": 27,
     "metadata": {},
     "output_type": "execute_result"
    }
   ],
   "source": [
    "output"
   ]
  },
  {
   "cell_type": "code",
   "execution_count": 41,
   "metadata": {},
   "outputs": [
    {
     "name": "stdout",
     "output_type": "stream",
     "text": [
      "(1, 2)\n",
      "(2, 3)\n",
      "(3, 4)\n"
     ]
    }
   ],
   "source": [
    "for i in output:\n",
    "    print(i)\n",
    "    \n",
    "    "
   ]
  },
  {
   "cell_type": "code",
   "execution_count": 42,
   "metadata": {},
   "outputs": [],
   "source": [
    "lst1=[\"Kunal\",\"Kishor\",\"Samir\",4]\n",
    "lst2=[\"a\",'b','c']\n",
    "lst3=[1,2,3]"
   ]
  },
  {
   "cell_type": "code",
   "execution_count": 44,
   "metadata": {},
   "outputs": [
    {
     "name": "stdout",
     "output_type": "stream",
     "text": [
      "('Kunal', 'a', 1)\n",
      "('Kishor', 'b', 2)\n",
      "('Samir', 'c', 3)\n"
     ]
    }
   ],
   "source": [
    "output=zip(lst1,lst2,lst3)\n",
    "for i in output:\n",
    "    print(i)"
   ]
  },
  {
   "cell_type": "code",
   "execution_count": 47,
   "metadata": {},
   "outputs": [],
   "source": [
    "dict1={'name':'Kunal','lst_name':'Mugalkhod','age':31}\n",
    "dict2={'name':'Smair','lst_name':'Verma','age':35}"
   ]
  },
  {
   "cell_type": "code",
   "execution_count": 48,
   "metadata": {},
   "outputs": [
    {
     "data": {
      "text/plain": [
       "dict_items([('name', 'Smair'), ('lst_name', 'Verma'), ('age', 35)])"
      ]
     },
     "execution_count": 48,
     "metadata": {},
     "output_type": "execute_result"
    }
   ],
   "source": [
    "dict2.items()"
   ]
  },
  {
   "cell_type": "code",
   "execution_count": 49,
   "metadata": {},
   "outputs": [],
   "source": [
    "dictionary=zip(dict1.items(),dict2.items())"
   ]
  },
  {
   "cell_type": "code",
   "execution_count": 38,
   "metadata": {},
   "outputs": [
    {
     "name": "stdout",
     "output_type": "stream",
     "text": [
      "name Kunal\n",
      "name Smair\n",
      "lst_name Mugalkhod\n",
      "lst_name Verma\n",
      "age 31\n",
      "age 35\n"
     ]
    }
   ],
   "source": [
    "for (i,j),(i2,j2) in dictionary:\n",
    "    print(i, j)\n",
    "    print(i2,j2)"
   ]
  },
  {
   "cell_type": "code",
   "execution_count": 50,
   "metadata": {},
   "outputs": [
    {
     "name": "stdout",
     "output_type": "stream",
     "text": [
      "(('name', 'Kunal'), ('name', 'Smair'))\n",
      "(('lst_name', 'Mugalkhod'), ('lst_name', 'Verma'))\n",
      "(('age', 31), ('age', 35))\n"
     ]
    }
   ],
   "source": [
    "for i in dictionary:\n",
    "    print(i)\n",
    "  "
   ]
  },
  {
   "cell_type": "code",
   "execution_count": null,
   "metadata": {},
   "outputs": [],
   "source": []
  }
 ],
 "metadata": {
  "interpreter": {
   "hash": "4b0f6543385c4770f4db32a38eb0b603ffd4f25c79884dfe948c3403703e7154"
  },
  "kernelspec": {
   "display_name": "Python 3.8.8 64-bit ('base': conda)",
   "language": "python",
   "name": "python3"
  },
  "language_info": {
   "codemirror_mode": {
    "name": "ipython",
    "version": 3
   },
   "file_extension": ".py",
   "mimetype": "text/x-python",
   "name": "python",
   "nbconvert_exporter": "python",
   "pygments_lexer": "ipython3",
   "version": "3.8.8"
  },
  "orig_nbformat": 4
 },
 "nbformat": 4,
 "nbformat_minor": 2
}
