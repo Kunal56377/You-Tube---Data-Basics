{
 "cells": [
  {
   "cell_type": "markdown",
   "id": "5b48a722",
   "metadata": {},
   "source": [
    "# Variables\n",
    "\n",
    "➢ A Variable is a location in the memory and is used to store some value.  \n",
    "\n",
    "➢ Each variable has a unique name so that it could be differentiated from the  \n",
    "other memory locations. The rules for naming a variable are same as that\n",
    "of an identifier.  \n",
    "\n",
    "➢ While initializing a variable, we just have to assign a value. Unlike in\n",
    "programming languages like C/C++/Java, we need not mention any data\n",
    "type for the variable. Deciding the data type and allocation of memory is\n",
    "done internally, after we assign a value  \n",
    "\n"
   ]
  },
  {
   "cell_type": "markdown",
   "id": "c28b736e",
   "metadata": {},
   "source": [
    "# Variable Assignment"
   ]
  },
  {
   "cell_type": "code",
   "execution_count": 19,
   "id": "a477e77b",
   "metadata": {},
   "outputs": [],
   "source": [
    "a=10\n",
    "b=5.5\n",
    "c='ML'"
   ]
  },
  {
   "cell_type": "code",
   "execution_count": 22,
   "id": "098768c1",
   "metadata": {},
   "outputs": [],
   "source": [
    "C= a + b"
   ]
  },
  {
   "cell_type": "code",
   "execution_count": 23,
   "id": "fe0e83dc",
   "metadata": {},
   "outputs": [
    {
     "data": {
      "text/plain": [
       "15.5"
      ]
     },
     "execution_count": 23,
     "metadata": {},
     "output_type": "execute_result"
    }
   ],
   "source": [
    "C"
   ]
  },
  {
   "cell_type": "markdown",
   "id": "81040397",
   "metadata": {},
   "source": [
    "# Multiple Variable Assignments"
   ]
  },
  {
   "cell_type": "code",
   "execution_count": 4,
   "id": "e3e4d0be",
   "metadata": {},
   "outputs": [],
   "source": [
    "a,b,c = 10,5.5,'ML'"
   ]
  },
  {
   "cell_type": "code",
   "execution_count": 6,
   "id": "72ce13dc",
   "metadata": {},
   "outputs": [],
   "source": [
    "a=b=c=\"AI\""
   ]
  },
  {
   "cell_type": "markdown",
   "id": "b05d571c",
   "metadata": {},
   "source": [
    "# Storage Locations"
   ]
  },
  {
   "cell_type": "code",
   "execution_count": 16,
   "id": "872ab97b",
   "metadata": {},
   "outputs": [],
   "source": [
    "# Range (-5,256)  -  Same address"
   ]
  },
  {
   "cell_type": "code",
   "execution_count": 8,
   "id": "40a91355",
   "metadata": {},
   "outputs": [
    {
     "name": "stdout",
     "output_type": "stream",
     "text": [
      "140710844770160\n"
     ]
    }
   ],
   "source": [
    "X = 3 \n",
    "print(id(X))"
   ]
  },
  {
   "cell_type": "code",
   "execution_count": 9,
   "id": "4d0a34dc",
   "metadata": {},
   "outputs": [],
   "source": [
    "y =X"
   ]
  },
  {
   "cell_type": "code",
   "execution_count": 10,
   "id": "29ceaf43",
   "metadata": {},
   "outputs": [
    {
     "name": "stdout",
     "output_type": "stream",
     "text": [
      "140710844770160\n"
     ]
    }
   ],
   "source": [
    "print(id(y))"
   ]
  },
  {
   "cell_type": "code",
   "execution_count": 14,
   "id": "9ccedd1f",
   "metadata": {},
   "outputs": [
    {
     "name": "stdout",
     "output_type": "stream",
     "text": [
      "2297483935792\n"
     ]
    }
   ],
   "source": [
    "B = 257\n",
    "print(id(B))"
   ]
  },
  {
   "cell_type": "code",
   "execution_count": 12,
   "id": "053daf1b",
   "metadata": {},
   "outputs": [],
   "source": [
    "C =B"
   ]
  },
  {
   "cell_type": "code",
   "execution_count": 15,
   "id": "fcd644bd",
   "metadata": {},
   "outputs": [
    {
     "name": "stdout",
     "output_type": "stream",
     "text": [
      "2297483937232\n"
     ]
    }
   ],
   "source": [
    "print(id(C))"
   ]
  },
  {
   "cell_type": "code",
   "execution_count": null,
   "id": "928acd39",
   "metadata": {},
   "outputs": [],
   "source": []
  }
 ],
 "metadata": {
  "kernelspec": {
   "display_name": "Python 3",
   "language": "python",
   "name": "python3"
  },
  "language_info": {
   "codemirror_mode": {
    "name": "ipython",
    "version": 3
   },
   "file_extension": ".py",
   "mimetype": "text/x-python",
   "name": "python",
   "nbconvert_exporter": "python",
   "pygments_lexer": "ipython3",
   "version": "3.8.8"
  }
 },
 "nbformat": 4,
 "nbformat_minor": 5
}
