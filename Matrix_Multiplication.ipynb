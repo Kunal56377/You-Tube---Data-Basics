{
  "nbformat": 4,
  "nbformat_minor": 0,
  "metadata": {
    "colab": {
      "name": "Untitled16.ipynb",
      "provenance": []
    },
    "kernelspec": {
      "name": "python3",
      "display_name": "Python 3"
    },
    "language_info": {
      "name": "python"
    }
  },
  "cells": [
    {
      "cell_type": "code",
      "execution_count": 1,
      "metadata": {
        "id": "zDuuQ9ZeOwE8"
      },
      "outputs": [],
      "source": [
        "A = [[2,3,4],\n",
        "     [4,5,6],\n",
        "     [6,7,8]]"
      ]
    },
    {
      "cell_type": "code",
      "source": [
        "B = [[3 ,4,5],\n",
        "     [6,9,10],\n",
        "     [5,6,7]]"
      ],
      "metadata": {
        "id": "ZSXH4PMiP7Np"
      },
      "execution_count": 2,
      "outputs": []
    },
    {
      "cell_type": "code",
      "source": [
        "C = [[0,0,0],\n",
        "     [0,0,0],\n",
        "     [0,0,0]]"
      ],
      "metadata": {
        "id": "0tn8LXJIQBrP"
      },
      "execution_count": 3,
      "outputs": []
    },
    {
      "cell_type": "code",
      "source": [
        "len(C)   "
      ],
      "metadata": {
        "colab": {
          "base_uri": "https://localhost:8080/"
        },
        "id": "lbW5-0KiQXUH",
        "outputId": "01fb156a-aed8-46c3-fed5-b16ba9d9a944"
      },
      "execution_count": 5,
      "outputs": [
        {
          "output_type": "execute_result",
          "data": {
            "text/plain": [
              "3"
            ]
          },
          "metadata": {},
          "execution_count": 5
        }
      ]
    },
    {
      "cell_type": "code",
      "source": [
        "\n",
        "for i in range(0, len(C)):\n",
        "  for j in range(0,len(C[0])):\n",
        "    for k in range(0,len(B)):\n",
        "      C[i][j]+=A[i][k] * B[k][j]\n"
      ],
      "metadata": {
        "id": "_uaZgQCuQInn"
      },
      "execution_count": 7,
      "outputs": []
    },
    {
      "cell_type": "code",
      "source": [
        "for i in C:\n",
        "  print(i)"
      ],
      "metadata": {
        "colab": {
          "base_uri": "https://localhost:8080/"
        },
        "id": "S9sDB9AzQ_yn",
        "outputId": "9394a708-1cc1-4754-d942-4fbc2c603347"
      },
      "execution_count": 8,
      "outputs": [
        {
          "output_type": "stream",
          "name": "stdout",
          "text": [
            "[44, 59, 68]\n",
            "[72, 97, 112]\n",
            "[100, 135, 156]\n"
          ]
        }
      ]
    },
    {
      "cell_type": "code",
      "source": [
        "for i in zip(*B):\n",
        "  print(i)"
      ],
      "metadata": {
        "colab": {
          "base_uri": "https://localhost:8080/"
        },
        "id": "UkY8quKhRMPH",
        "outputId": "801d605a-aa82-4013-aff5-6ee1095212a6"
      },
      "execution_count": 9,
      "outputs": [
        {
          "output_type": "stream",
          "name": "stdout",
          "text": [
            "(3, 6, 5)\n",
            "(4, 9, 6)\n",
            "(5, 10, 7)\n"
          ]
        }
      ]
    },
    {
      "cell_type": "code",
      "source": [
        " temp =   [[sum(row*col for row,col in zip(row,col) )  for col in zip(*B) ]for row in A]"
      ],
      "metadata": {
        "id": "q8jQhXZURdWo"
      },
      "execution_count": 10,
      "outputs": []
    },
    {
      "cell_type": "code",
      "source": [
        "for i in temp:\n",
        "  print(i)"
      ],
      "metadata": {
        "colab": {
          "base_uri": "https://localhost:8080/"
        },
        "id": "ZOT2JHJUSBFv",
        "outputId": "92266466-f5c1-4203-8492-5da66de26ea4"
      },
      "execution_count": 12,
      "outputs": [
        {
          "output_type": "stream",
          "name": "stdout",
          "text": [
            "[44, 59, 68]\n",
            "[72, 97, 112]\n",
            "[100, 135, 156]\n"
          ]
        }
      ]
    },
    {
      "cell_type": "code",
      "source": [
        ""
      ],
      "metadata": {
        "id": "94iH5xAkSDXu"
      },
      "execution_count": null,
      "outputs": []
    }
  ]
}