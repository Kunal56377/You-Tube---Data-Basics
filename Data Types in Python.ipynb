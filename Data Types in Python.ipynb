{
 "cells": [
  {
   "cell_type": "markdown",
   "id": "a51ab335",
   "metadata": {},
   "source": [
    "# Data Types In python\n",
    "1) Numbers  \n",
    "2) Strings  \n",
    "3) Boolean  \n",
    "4) Strings  \n",
    "5) List  \n",
    "6) Tuple  \n",
    "7) Set   \n",
    "8) Dictionary   "
   ]
  },
  {
   "cell_type": "markdown",
   "id": "5f59919c",
   "metadata": {},
   "source": [
    "## Numbers"
   ]
  },
  {
   "cell_type": "code",
   "execution_count": 10,
   "id": "d33b8028",
   "metadata": {},
   "outputs": [],
   "source": [
    "a =10"
   ]
  },
  {
   "cell_type": "code",
   "execution_count": 11,
   "id": "18f76c8f",
   "metadata": {},
   "outputs": [
    {
     "name": "stdout",
     "output_type": "stream",
     "text": [
      "<class 'int'>\n"
     ]
    }
   ],
   "source": [
    "print(type(a))"
   ]
  },
  {
   "cell_type": "code",
   "execution_count": 12,
   "id": "6556f3a5",
   "metadata": {},
   "outputs": [],
   "source": [
    "a = 2.5"
   ]
  },
  {
   "cell_type": "code",
   "execution_count": 13,
   "id": "31a6289f",
   "metadata": {},
   "outputs": [
    {
     "name": "stdout",
     "output_type": "stream",
     "text": [
      "<class 'float'>\n"
     ]
    }
   ],
   "source": [
    "print(type(2.5))"
   ]
  },
  {
   "cell_type": "code",
   "execution_count": 14,
   "id": "e2c6d502",
   "metadata": {},
   "outputs": [],
   "source": [
    "a = 1 + 2j"
   ]
  },
  {
   "cell_type": "code",
   "execution_count": 15,
   "id": "c77fcbe0",
   "metadata": {},
   "outputs": [
    {
     "name": "stdout",
     "output_type": "stream",
     "text": [
      "<class 'complex'>\n"
     ]
    }
   ],
   "source": [
    "print(type(a))"
   ]
  },
  {
   "cell_type": "markdown",
   "id": "0621ce4f",
   "metadata": {},
   "source": [
    "# Strings"
   ]
  },
  {
   "cell_type": "markdown",
   "id": "68c088d5",
   "metadata": {},
   "source": [
    "## Properties \n",
    "\n",
    "1) Sequence of unicode Characters  \n",
    "2) Enclosed in Double quote or in single quote  \n",
    "3) Mutiline strings enclosed in triple quotes  \n",
    "4) Support the indexing  "
   ]
  },
  {
   "cell_type": "code",
   "execution_count": 21,
   "id": "feb25c8a",
   "metadata": {},
   "outputs": [],
   "source": [
    " new_string = 'Data Basics is my youtube channel'"
   ]
  },
  {
   "cell_type": "code",
   "execution_count": 22,
   "id": "96ef22dd",
   "metadata": {},
   "outputs": [
    {
     "name": "stdout",
     "output_type": "stream",
     "text": [
      "Data Basics is my youtube channel\n"
     ]
    }
   ],
   "source": [
    "print(new_string)"
   ]
  },
  {
   "cell_type": "code",
   "execution_count": 23,
   "id": "6c97d273",
   "metadata": {},
   "outputs": [
    {
     "data": {
      "text/plain": [
       "'D'"
      ]
     },
     "execution_count": 23,
     "metadata": {},
     "output_type": "execute_result"
    }
   ],
   "source": [
    "new_string[0]"
   ]
  },
  {
   "cell_type": "code",
   "execution_count": 24,
   "id": "6f2010de",
   "metadata": {},
   "outputs": [
    {
     "data": {
      "text/plain": [
       "'l'"
      ]
     },
     "execution_count": 24,
     "metadata": {},
     "output_type": "execute_result"
    }
   ],
   "source": [
    "new_string[len(new_string) - 1]"
   ]
  },
  {
   "cell_type": "markdown",
   "id": "15a9fe98",
   "metadata": {},
   "source": [
    "# To check the String is palidrom or not "
   ]
  },
  {
   "cell_type": "code",
   "execution_count": 55,
   "id": "2bcb16f1",
   "metadata": {},
   "outputs": [],
   "source": [
    "temp = 'dddddd'"
   ]
  },
  {
   "cell_type": "code",
   "execution_count": 62,
   "id": "54d909de",
   "metadata": {},
   "outputs": [
    {
     "data": {
      "text/plain": [
       "'dddddd'"
      ]
     },
     "execution_count": 62,
     "metadata": {},
     "output_type": "execute_result"
    }
   ],
   "source": [
    " temp[::-1]"
   ]
  },
  {
   "cell_type": "code",
   "execution_count": 35,
   "id": "392233b8",
   "metadata": {},
   "outputs": [
    {
     "name": "stdout",
     "output_type": "stream",
     "text": [
      "String is palidrome\n"
     ]
    }
   ],
   "source": [
    "if temp[::-1] == temp:\n",
    "    print(\"String is palidrome\")\n",
    "else:\n",
    "    print(\"String is not palidome\")"
   ]
  },
  {
   "cell_type": "markdown",
   "id": "ab4aabc7",
   "metadata": {},
   "source": [
    "## Python List\n",
    "\n",
    "1) Ordered sequence of items   \n",
    "2) All the Items list do not need to be of the same data type   \n",
    "3) Declaring a list is nothing but the items separated by commas are enclosed within brackets[]  \n",
    "4) We can access each of the elements in the list using their indexes.  \n",
    "5) Lists are mutable   "
   ]
  },
  {
   "cell_type": "code",
   "execution_count": 37,
   "id": "8fae0b51",
   "metadata": {},
   "outputs": [],
   "source": [
    "temp = ['1','3','4','Kunal']"
   ]
  },
  {
   "cell_type": "code",
   "execution_count": 38,
   "id": "30a2dc53",
   "metadata": {},
   "outputs": [
    {
     "data": {
      "text/plain": [
       "'3'"
      ]
     },
     "execution_count": 38,
     "metadata": {},
     "output_type": "execute_result"
    }
   ],
   "source": [
    "temp[1]"
   ]
  },
  {
   "cell_type": "code",
   "execution_count": 39,
   "id": "bfc0ba9d",
   "metadata": {},
   "outputs": [],
   "source": [
    "temp[1] = 10"
   ]
  },
  {
   "cell_type": "code",
   "execution_count": 40,
   "id": "ccff7c66",
   "metadata": {},
   "outputs": [
    {
     "name": "stdout",
     "output_type": "stream",
     "text": [
      "['1', 10, '4', 'Kunal']\n"
     ]
    }
   ],
   "source": [
    "print(temp)"
   ]
  },
  {
   "cell_type": "markdown",
   "id": "a1ee7a08",
   "metadata": {},
   "source": [
    "## Tuple\n",
    "\n",
    "1) ordered sequence of elements  \n",
    "2) List is mutable whereas a Tuple is immutable  \n",
    "3) elements in a tuple should be enclosed between a pair of round brackets  "
   ]
  },
  {
   "cell_type": "code",
   "execution_count": 41,
   "id": "1b768e64",
   "metadata": {},
   "outputs": [],
   "source": [
    "k = (2,3,5)"
   ]
  },
  {
   "cell_type": "code",
   "execution_count": 42,
   "id": "f07373b9",
   "metadata": {},
   "outputs": [
    {
     "name": "stdout",
     "output_type": "stream",
     "text": [
      "(2, 3, 5)\n"
     ]
    }
   ],
   "source": [
    "print(k)"
   ]
  },
  {
   "cell_type": "code",
   "execution_count": 43,
   "id": "0d3106e3",
   "metadata": {},
   "outputs": [
    {
     "data": {
      "text/plain": [
       "5"
      ]
     },
     "execution_count": 43,
     "metadata": {},
     "output_type": "execute_result"
    }
   ],
   "source": [
    "k[2]"
   ]
  },
  {
   "cell_type": "code",
   "execution_count": 44,
   "id": "055dde3d",
   "metadata": {},
   "outputs": [
    {
     "ename": "TypeError",
     "evalue": "'tuple' object does not support item assignment",
     "output_type": "error",
     "traceback": [
      "\u001b[1;31m---------------------------------------------------------------------------\u001b[0m",
      "\u001b[1;31mTypeError\u001b[0m                                 Traceback (most recent call last)",
      "\u001b[1;32m<ipython-input-44-3194d623760f>\u001b[0m in \u001b[0;36m<module>\u001b[1;34m\u001b[0m\n\u001b[1;32m----> 1\u001b[1;33m \u001b[0mk\u001b[0m\u001b[1;33m[\u001b[0m\u001b[1;36m2\u001b[0m\u001b[1;33m]\u001b[0m \u001b[1;33m=\u001b[0m \u001b[1;36m8\u001b[0m\u001b[1;33m\u001b[0m\u001b[1;33m\u001b[0m\u001b[0m\n\u001b[0m",
      "\u001b[1;31mTypeError\u001b[0m: 'tuple' object does not support item assignment"
     ]
    }
   ],
   "source": [
    "k[2] = 8"
   ]
  },
  {
   "cell_type": "markdown",
   "id": "06f817c4",
   "metadata": {},
   "source": [
    "# Set\n",
    "1) unordered collection of unique items    \n",
    "2) Defined by curly braces {}     \n",
    "3) Sets do allow repetition of elements  \n",
    "4) Substraction,union,intersetion these opreration can performed  "
   ]
  },
  {
   "cell_type": "code",
   "execution_count": 45,
   "id": "ef253cdd",
   "metadata": {},
   "outputs": [],
   "source": [
    "a = {1,2,3}"
   ]
  },
  {
   "cell_type": "code",
   "execution_count": 46,
   "id": "0786c04e",
   "metadata": {},
   "outputs": [],
   "source": [
    "b = {3,2,4}"
   ]
  },
  {
   "cell_type": "code",
   "execution_count": 47,
   "id": "5d817bc6",
   "metadata": {},
   "outputs": [],
   "source": [
    "c = {2,3}"
   ]
  },
  {
   "cell_type": "markdown",
   "id": "17729961",
   "metadata": {},
   "source": [
    "## Dictionary\n",
    "\n",
    "1) unordered collection of key-value pairs  \n",
    "2) Dictionary are present in key-value pair format.  \n",
    "3) Dictionary doesn’t allow duplication of keys"
   ]
  },
  {
   "cell_type": "code",
   "execution_count": 51,
   "id": "7865ddbc",
   "metadata": {},
   "outputs": [],
   "source": [
    "d1 = {'Maharashtra':'Mumbai','karnataka':'Bangalore'}"
   ]
  },
  {
   "cell_type": "code",
   "execution_count": 52,
   "id": "9a258f1b",
   "metadata": {},
   "outputs": [
    {
     "data": {
      "text/plain": [
       "'Mumbai'"
      ]
     },
     "execution_count": 52,
     "metadata": {},
     "output_type": "execute_result"
    }
   ],
   "source": [
    "d1['Maharashtra']"
   ]
  },
  {
   "cell_type": "code",
   "execution_count": 53,
   "id": "9897b33e",
   "metadata": {},
   "outputs": [
    {
     "data": {
      "text/plain": [
       "'Bangalore'"
      ]
     },
     "execution_count": 53,
     "metadata": {},
     "output_type": "execute_result"
    }
   ],
   "source": [
    "d1['karnataka']"
   ]
  },
  {
   "cell_type": "code",
   "execution_count": null,
   "id": "5d756401",
   "metadata": {},
   "outputs": [],
   "source": []
  }
 ],
 "metadata": {
  "kernelspec": {
   "display_name": "Python 3",
   "language": "python",
   "name": "python3"
  },
  "language_info": {
   "codemirror_mode": {
    "name": "ipython",
    "version": 3
   },
   "file_extension": ".py",
   "mimetype": "text/x-python",
   "name": "python",
   "nbconvert_exporter": "python",
   "pygments_lexer": "ipython3",
   "version": "3.8.8"
  }
 },
 "nbformat": 4,
 "nbformat_minor": 5
}
