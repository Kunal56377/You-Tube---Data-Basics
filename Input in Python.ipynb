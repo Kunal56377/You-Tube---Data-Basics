{
 "cells": [
  {
   "cell_type": "markdown",
   "id": "50602fba",
   "metadata": {},
   "source": [
    "# Syntax : input(\"promt\")"
   ]
  },
  {
   "cell_type": "code",
   "execution_count": 12,
   "id": "f0179748",
   "metadata": {},
   "outputs": [
    {
     "name": "stdout",
     "output_type": "stream",
     "text": [
      "Enter the your nameKunal Mugalkhod\n",
      "Kunal Mugalkhod\n"
     ]
    }
   ],
   "source": [
    "name = input(\"Enter the your name\")\n",
    "\n",
    "print(name)"
   ]
  },
  {
   "cell_type": "markdown",
   "id": "fa6c8fae",
   "metadata": {},
   "source": [
    "# Syntax : type(varible)"
   ]
  },
  {
   "cell_type": "code",
   "execution_count": 13,
   "id": "a34885d2",
   "metadata": {},
   "outputs": [
    {
     "data": {
      "text/plain": [
       "str"
      ]
     },
     "execution_count": 13,
     "metadata": {},
     "output_type": "execute_result"
    }
   ],
   "source": [
    "type(name)"
   ]
  },
  {
   "cell_type": "markdown",
   "id": "a75089f5",
   "metadata": {},
   "source": [
    "# Example 1 : Take input of 2 subject marks and sum them"
   ]
  },
  {
   "cell_type": "code",
   "execution_count": 14,
   "id": "5c25bf61",
   "metadata": {},
   "outputs": [
    {
     "name": "stdout",
     "output_type": "stream",
     "text": [
      "Enter marks for sub13\n",
      "Enter marks for sub24\n"
     ]
    }
   ],
   "source": [
    "sub1 = input('Enter marks for sub1')\n",
    "\n",
    "sub2  = input('Enter marks for sub2')\n",
    "\n",
    "Sum = int(sub1) + int(sub2)\n",
    "\n",
    "\n"
   ]
  },
  {
   "cell_type": "code",
   "execution_count": 16,
   "id": "35747e16",
   "metadata": {},
   "outputs": [
    {
     "data": {
      "text/plain": [
       "7"
      ]
     },
     "execution_count": 16,
     "metadata": {},
     "output_type": "execute_result"
    }
   ],
   "source": [
    "Sum"
   ]
  },
  {
   "cell_type": "markdown",
   "id": "b49dd91f",
   "metadata": {},
   "source": [
    "# Example 2 : Take mutiple subject marks and sum them "
   ]
  },
  {
   "cell_type": "code",
   "execution_count": 18,
   "id": "589092ad",
   "metadata": {},
   "outputs": [
    {
     "name": "stdout",
     "output_type": "stream",
     "text": [
      "Enter the subject marks3 4 5 6\n"
     ]
    }
   ],
   "source": [
    "marks =[int(x) for x in input('Enter the subject marks').split()]\n",
    "\n"
   ]
  },
  {
   "cell_type": "code",
   "execution_count": 19,
   "id": "5e78c19e",
   "metadata": {},
   "outputs": [
    {
     "data": {
      "text/plain": [
       "[3, 4, 5, 6]"
      ]
     },
     "execution_count": 19,
     "metadata": {},
     "output_type": "execute_result"
    }
   ],
   "source": [
    "marks"
   ]
  },
  {
   "cell_type": "code",
   "execution_count": 20,
   "id": "4c7fcd9f",
   "metadata": {},
   "outputs": [
    {
     "data": {
      "text/plain": [
       "18"
      ]
     },
     "execution_count": 20,
     "metadata": {},
     "output_type": "execute_result"
    }
   ],
   "source": [
    "sum = 0 \n",
    "\n",
    "for i in marks:\n",
    "    sum = sum + i\n",
    "\n",
    "sum"
   ]
  },
  {
   "cell_type": "code",
   "execution_count": null,
   "id": "ed42fee6",
   "metadata": {},
   "outputs": [],
   "source": []
  }
 ],
 "metadata": {
  "kernelspec": {
   "display_name": "Python 3",
   "language": "python",
   "name": "python3"
  },
  "language_info": {
   "codemirror_mode": {
    "name": "ipython",
    "version": 3
   },
   "file_extension": ".py",
   "mimetype": "text/x-python",
   "name": "python",
   "nbconvert_exporter": "python",
   "pygments_lexer": "ipython3",
   "version": "3.8.8"
  }
 },
 "nbformat": 4,
 "nbformat_minor": 5
}
