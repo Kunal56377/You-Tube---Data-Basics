{
  "nbformat": 4,
  "nbformat_minor": 0,
  "metadata": {
    "colab": {
      "name": "Lambda Function",
      "provenance": []
    },
    "kernelspec": {
      "name": "python3",
      "display_name": "Python 3"
    },
    "language_info": {
      "name": "python"
    }
  },
  "cells": [
    {
      "cell_type": "code",
      "execution_count": 8,
      "metadata": {
        "id": "zVCi1-E3IFua"
      },
      "outputs": [],
      "source": [
        "def squarename(num):\n",
        "  return num * num"
      ]
    },
    {
      "cell_type": "code",
      "source": [
        "square = lambda num : num*num"
      ],
      "metadata": {
        "id": "Lwz4q03uJRoQ"
      },
      "execution_count": 9,
      "outputs": []
    },
    {
      "cell_type": "code",
      "source": [
        "print(square(20))"
      ],
      "metadata": {
        "colab": {
          "base_uri": "https://localhost:8080/"
        },
        "id": "8ZT-eo5PJg1Q",
        "outputId": "ab2d3bea-6404-4674-a11c-45436d504910"
      },
      "execution_count": 10,
      "outputs": [
        {
          "output_type": "stream",
          "name": "stdout",
          "text": [
            "400\n"
          ]
        }
      ]
    },
    {
      "cell_type": "code",
      "source": [
        "k = [2,3,4,5,6]"
      ],
      "metadata": {
        "id": "baNe3HGgJmGv"
      },
      "execution_count": 11,
      "outputs": []
    },
    {
      "cell_type": "code",
      "source": [
        "new_list = list(map(lambda num: num*num,k ))"
      ],
      "metadata": {
        "id": "pfTAd4hYLzY2"
      },
      "execution_count": 12,
      "outputs": []
    },
    {
      "cell_type": "code",
      "source": [
        "new_list"
      ],
      "metadata": {
        "colab": {
          "base_uri": "https://localhost:8080/"
        },
        "id": "KOPwnPy4MOxF",
        "outputId": "4c99b029-fcdd-46cf-8dc1-c19dc45604c5"
      },
      "execution_count": 13,
      "outputs": [
        {
          "output_type": "execute_result",
          "data": {
            "text/plain": [
              "[4, 9, 16, 25, 36]"
            ]
          },
          "metadata": {},
          "execution_count": 13
        }
      ]
    },
    {
      "cell_type": "code",
      "source": [
        "new_list1 = list(filter(lambda num : (num%2==0),k ))\n"
      ],
      "metadata": {
        "id": "W42H737oMTL3"
      },
      "execution_count": 14,
      "outputs": []
    },
    {
      "cell_type": "code",
      "source": [
        "print(new_list1)"
      ],
      "metadata": {
        "colab": {
          "base_uri": "https://localhost:8080/"
        },
        "id": "1rHrPbTRNhEm",
        "outputId": "72234fc2-6f4e-4098-99c9-25326e129d52"
      },
      "execution_count": 15,
      "outputs": [
        {
          "output_type": "stream",
          "name": "stdout",
          "text": [
            "[2, 4, 6]\n"
          ]
        }
      ]
    },
    {
      "cell_type": "code",
      "source": [
        "from functools import reduce"
      ],
      "metadata": {
        "id": "ZVW5k2xkNjO-"
      },
      "execution_count": 16,
      "outputs": []
    },
    {
      "cell_type": "code",
      "source": [
        "t = reduce(lambda x,y:x*y,k)"
      ],
      "metadata": {
        "id": "3PERONeYOsFY"
      },
      "execution_count": 17,
      "outputs": []
    },
    {
      "cell_type": "code",
      "source": [
        "t"
      ],
      "metadata": {
        "colab": {
          "base_uri": "https://localhost:8080/"
        },
        "id": "62eZPA7gPAjP",
        "outputId": "259fd593-a63e-402f-aeb7-c52a8f0f7040"
      },
      "execution_count": 18,
      "outputs": [
        {
          "output_type": "execute_result",
          "data": {
            "text/plain": [
              "720"
            ]
          },
          "metadata": {},
          "execution_count": 18
        }
      ]
    },
    {
      "cell_type": "code",
      "source": [
        ""
      ],
      "metadata": {
        "id": "ADgAUIHGPBdV"
      },
      "execution_count": null,
      "outputs": []
    }
  ]
}